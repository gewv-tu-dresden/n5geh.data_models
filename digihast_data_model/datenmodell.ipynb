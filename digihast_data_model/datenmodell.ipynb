{
 "cells": [
  {
   "cell_type": "markdown",
   "metadata": {},
   "source": [
    "## Datenmodell-Schema DIGiHAST\n",
    "\n",
    "### Konzept\n",
    "\n",
    "Erstellung eines skalierbaren Datenmodells zur detaillierten Beschreibung eines Fernwärmenetzes mit vernetzten Hausstationen (iHAST) sowie Netzknoten (iKNOTEN)."
   ]
  },
  {
   "cell_type": "markdown",
   "metadata": {},
   "source": [
    "### Import dependency"
   ]
  },
  {
   "cell_type": "code",
   "execution_count": 15,
   "metadata": {},
   "outputs": [],
   "source": [
    "import json\n",
    "from pydantic import ConfigDict, BaseModel\n",
    "from pydantic.fields import Field, FieldInfo\n",
    "from typing import Any, Optional\n",
    "from filip.models import FiwareHeader\n",
    "from filip.models.ngsi_v2.context import ContextEntityKeyValues\n",
    "from filip.clients.ngsi_v2.cb import ContextBrokerClient"
   ]
  },
  {
   "cell_type": "markdown",
   "metadata": {},
   "source": [
    "### Erstellung der Datenmodelle"
   ]
  },
  {
   "cell_type": "markdown",
   "metadata": {},
   "source": [
    "#### Positionsdaten"
   ]
  },
  {
   "cell_type": "code",
   "execution_count": 9,
   "metadata": {},
   "outputs": [],
   "source": [
    "class PostalAddress(BaseModel):\n",
    "    \"\"\" \n",
    "    Model for address (maybe adapt to https://schema.org/PostalAddress)\n",
    "    \"\"\"\n",
    "    model_config = ConfigDict(populate_by_name=True, coerce_numbers_to_str=True)\n",
    "    \n",
    "    streetName: str = Field(\n",
    "        description=\"Street name\",\n",
    "    )\n",
    "    streetNumber: str = Field(\n",
    "        description=\"Street number\",\n",
    "    )\n",
    "    city: str = Field(\n",
    "        description=\"City\",\n",
    "    )\n",
    "    postalCode: int = Field(\n",
    "        description=\"Postal code\",\n",
    "    )\n",
    "    \n",
    "\n",
    "class Location(BaseModel):\n",
    "    \"\"\"\n",
    "    Model for location\n",
    "    \"\"\"\n",
    "    model_config = ConfigDict(populate_by_name=True, coerce_numbers_to_str=True)\n",
    "    \n",
    "    latitude: float = Field(\n",
    "        description=\"Latitude\",\n",
    "    )\n",
    "    longitude: float = Field(\n",
    "        description=\"Longitude\",\n",
    "    )"
   ]
  },
  {
   "cell_type": "markdown",
   "metadata": {},
   "source": [
    "#### Datenmodell WMZ"
   ]
  },
  {
   "cell_type": "code",
   "execution_count": 5,
   "metadata": {},
   "outputs": [],
   "source": [
    "class BJ(BaseModel):\n",
    "    \"\"\"\n",
    "    Model for a heat meter\n",
    "    \"\"\"\n",
    "    model_config = ConfigDict(populate_by_name=True, coerce_numbers_to_str=True)  \n",
    "\n",
    "    fwtemp: float = Field(\n",
    "        default=None,\n",
    "        description=\"dh supply temperature in degree Celsius\"\n",
    "    )\n",
    "    rttemp: float = Field(\n",
    "        default=None,\n",
    "        description=\"dh return temperature in degree Celsius\"\n",
    "    )\n",
    "    flow: float = Field(\n",
    "        default=None,\n",
    "        description=\"dh flow in kubikmeter per hour\"\n",
    "    )\n",
    "    power: float = Field(\n",
    "        default=None,\n",
    "        description=\"dh power in kilowatt\"\n",
    "    )\n",
    "    volume: float = Field(\n",
    "        default=None,\n",
    "        description=\"dh volume in kubikmeter\"\n",
    "    )\n",
    "    energy: float = Field(\n",
    "        default=None,\n",
    "        description=\"dh energy in kilowatthour\"\n",
    "    )\n",
    "    ref_entity: Any = Field(\n",
    "        default=None,\n",
    "        description=\"Reference to the entity\"\n",
    "    )"
   ]
  },
  {
   "cell_type": "markdown",
   "metadata": {},
   "source": [
    "#### Datenmodell Sensoren"
   ]
  },
  {
   "cell_type": "code",
   "execution_count": 26,
   "metadata": {},
   "outputs": [],
   "source": [
    "class BT(BaseModel):\n",
    "    \"\"\"\n",
    "    Model for a temperature sensor\n",
    "    \"\"\"\n",
    "    model_config = ConfigDict(populate_by_name=True, coerce_numbers_to_str=True)\n",
    "\n",
    "    temperature: float = Field(\n",
    "        default=None,\n",
    "        description=\"measure temperature in degree Celsius\"\n",
    "    )\n",
    "    ref_entity: Any = Field(\n",
    "        default=None,\n",
    "        description=\"Reference to the entity\"\n",
    "    )\n",
    "\n",
    "class BP(BaseModel):\n",
    "    \"\"\"\n",
    "    Model for a pressure sensor\n",
    "    \"\"\"\n",
    "    model_config = ConfigDict(populate_by_name=True, coerce_numbers_to_str=True)\n",
    "    \n",
    "    pressure: float = Field(\n",
    "        default=None,\n",
    "        description=\"measure pressure in bar\"\n",
    "    )\n",
    "    ref_entity: Any = Field(\n",
    "        default=None,\n",
    "        description=\"Reference to the entity\"\n",
    "    )\n",
    "    \n",
    "class BF(BaseModel):\n",
    "    \"\"\"\n",
    "    Model for a flow sensor\n",
    "    \"\"\"\n",
    "    model_config = ConfigDict(populate_by_name=True, coerce_numbers_to_str=True)\n",
    "\n",
    "    flow: float = Field(\n",
    "        default=None,\n",
    "        description=\"measure flow in kubikmeter per hour\"\n",
    "    )\n",
    "    ref_entity: Any = Field(\n",
    "        default=None,\n",
    "        description=\"Reference to the entity\"\n",
    "    )\n",
    "\n",
    "class BS(BaseModel):\n",
    "    \"\"\"\n",
    "    Model for a rotatiol frequency\n",
    "    \"\"\"\n",
    "    model_config = ConfigDict(populate_by_name=True, coerce_numbers_to_str=True)\n",
    "\n",
    "    rotational_frequency: float = Field(\n",
    "        default=None,\n",
    "        description=\"measure rotatiol frequency in rpm\"\n",
    "    )\n",
    "    ref_entity: Any = Field(\n",
    "        default=None,\n",
    "        description=\"Reference to the entity\"\n",
    "    )\n",
    "    "
   ]
  },
  {
   "cell_type": "markdown",
   "metadata": {},
   "source": [
    "#### Datenmodell für iHAST"
   ]
  },
  {
   "cell_type": "code",
   "execution_count": 27,
   "metadata": {},
   "outputs": [],
   "source": [
    "class iHAST(BaseModel):\n",
    "    \"\"\"\n",
    "    Model for a substation\n",
    "    \"\"\"\n",
    "    model_config = ConfigDict(populate_by_name=True, coerce_numbers_to_str=True)\n",
    "\n",
    "    address: Optional[PostalAddress]\n",
    "    location: Optional[Location]\n",
    "    subnet: Optional[str] = Field(\n",
    "        alias=\"subnet\",\n",
    "        default=None,\n",
    "        description=\"subnet \"\n",
    "    )\n",
    "    connected_load: Optional[float]= Field(\n",
    "        alias=\"connectedLoad\",\n",
    "        default=None,\n",
    "        description=\"Connected load of a substation\"\n",
    "    )\n",
    "    design_flow: Optional[float]= Field(\n",
    "        alias=\"design_flow\",\n",
    "        default=None,\n",
    "        description=\"Design flow of a substation\"\n",
    "    )\n",
    "    fwtemp_tcr: Optional[float]= Field(\n",
    "        alias=\"fwtemp_tcr\",\n",
    "        default=None,\n",
    "        description=\"Technical connection regulations for supply temperature\"\n",
    "    )\n",
    "    rttemp_tcr: Optional[float]= Field(\n",
    "        alias=\"rttemp_tcr\",\n",
    "        default=None,\n",
    "        description=\"Technical connection regulations for return temperature\"\n",
    "    )"
   ]
  },
  {
   "cell_type": "markdown",
   "metadata": {},
   "source": [
    "#### Datenmodell für iKNOTEN"
   ]
  },
  {
   "cell_type": "code",
   "execution_count": 28,
   "metadata": {},
   "outputs": [],
   "source": [
    "class iKNOTEN(BaseModel):\n",
    "    \"\"\"\n",
    "    Model for a substation\n",
    "    \"\"\"\n",
    "    model_config = ConfigDict(populate_by_name=True, coerce_numbers_to_str=True)\n",
    "\n",
    "    location: Optional[Location]\n",
    "    subnet: Optional[str] = Field(\n",
    "        alias=\"subnet\",\n",
    "        default=None,\n",
    "        description=\"subnet \"\n",
    "    )"
   ]
  },
  {
   "cell_type": "markdown",
   "metadata": {},
   "source": [
    "### Umsetzung als FIWARE-Modell"
   ]
  },
  {
   "cell_type": "code",
   "execution_count": null,
   "metadata": {},
   "outputs": [],
   "source": [
    "class BJFIWARE(BJ, ContextEntityKeyValues):\n",
    "    # add default for type if not explicitly set\n",
    "    type: str = FieldInfo.merge_field_infos(\n",
    "        # Field info of the general FIWARE data model in FiLiP\n",
    "        ContextEntityKeyValues.model_fields[\"type\"],\n",
    "        # set the default value\n",
    "        default=\"BJ\"\n",
    "        description=\"Type of the heat meter\"\n",
    "    )\n",
    "    \n",
    "class BTFIWARE(BT, ContextEntityKeyValues):\n",
    "    # add default for type if not explicitly set\n",
    "    type: str = FieldInfo.merge_field_infos(\n",
    "        # Field info of the general FIWARE data model in FiLiP\n",
    "        ContextEntityKeyValues.model_fields[\"type\"],\n",
    "        # set the default value\n",
    "        default=\"BT\"\n",
    "        description=\"Type of the temperature sensor\"\n",
    "    )\n",
    "    \n",
    "class BPFIWARE(BP, ContextEntityKeyValues):\n",
    "    # add default for type if not explicitly set\n",
    "    type: str = FieldInfo.merge_field_infos(\n",
    "        # Field info of the general FIWARE data model in FiLiP\n",
    "        ContextEntityKeyValues.model_fields[\"type\"],\n",
    "        # set the default value\n",
    "        default=\"BP\",\n",
    "        description=\"Type of the pressure sensor\"\n",
    "    )\n",
    "    \n",
    "class BFFIWARE(BF, ContextEntityKeyValues):\n",
    "    # add default for type if not explicitly set\n",
    "    type: str = FieldInfo.merge_field_infos(\n",
    "        # Field info of the general FIWARE data model in FiLiP\n",
    "        ContextEntityKeyValues.model_fields[\"type\"],\n",
    "        # set the default value\n",
    "        default=\"BF\",\n",
    "        description=\"Type of the flow sensor\"\n",
    "    )\n",
    "    \n",
    "class BSFIWARE(BS, ContextEntityKeyValues):\n",
    "    # add default for type if not explicitly set\n",
    "    type: str = FieldInfo.merge_field_infos(\n",
    "        # Field info of the general FIWARE data model in FiLiP\n",
    "        ContextEntityKeyValues.model_fields[\"type\"],\n",
    "        # set the default value\n",
    "        default=\"BS\",\n",
    "        description=\"Type of the rotational frequency sensor\"\n",
    "    )\n",
    "    \n",
    "class iHASTFIWARE(iHAST, ContextEntityKeyValues):\n",
    "    # add default for type if not explicitly set\n",
    "    type: str = FieldInfo.merge_field_infos(\n",
    "        # Field info of the general FIWARE data model in FiLiP\n",
    "        ContextEntityKeyValues.model_fields[\"type\"],\n",
    "        # set the default value\n",
    "        default=\"iHAST\",\n",
    "        description=\"Type of the substation\"\n",
    "    )\n",
    "    \n",
    "class iKNOTENFIWARE(iKNOTEN, ContextEntityKeyValues):\n",
    "    # add default for type if not explicitly set\n",
    "    type: str = FieldInfo.merge_field_infos(\n",
    "        # Field info of the general FIWARE data model in FiLiP\n",
    "        ContextEntityKeyValues.model_fields[\"type\"],\n",
    "        # set the default value\n",
    "        default=\"iKNOTEN\",\n",
    "        description=\"Type of the substation\"\n",
    "    )"
   ]
  },
  {
   "cell_type": "markdown",
   "metadata": {},
   "source": [
    "### Nutzung mit FIWARE-Instanz\n",
    "\n",
    "#### Initialisieren des FIWARE-API-Clients"
   ]
  },
  {
   "cell_type": "code",
   "execution_count": null,
   "metadata": {},
   "outputs": [],
   "source": [
    "CB_URL = \"http://localhost:1026\"\n",
    "SERVICE = 'digihast_datamodel_test'\n",
    "SERVICE_PATH = '/'\n",
    "fiware_header = FiwareHeader(\n",
    "    service=SERVICE,\n",
    "    service_path=SERVICE_PATH\n",
    ")\n",
    "cb_client = ContextBrokerClient(\n",
    "    url=CB_URL,\n",
    "    fiware_header=fiware_header\n",
    ")"
   ]
  },
  {
   "cell_type": "markdown",
   "metadata": {},
   "source": [
    "#### Anlegen von Datenpunkten"
   ]
  },
  {
   "cell_type": "code",
   "execution_count": null,
   "metadata": {},
   "outputs": [],
   "source": [
    "entities = []\n",
    "\n",
    "# iHAST\n",
    "entities.append(iHASTFIWARE(\n",
    "    id=\"iHAST:1\"\n",
    "))\n",
    "\n",
    "# Heat meter BJ\n",
    "entities.append(BJFIWARE(\n",
    "    id=\"BJ:1\", \n",
    "    isPartOf=entities[-1].id\n",
    "))\n",
    "\n",
    "for entity in entities:\n",
    "    cb_client.post_entity(entity, key_values=True, update=True)"
   ]
  },
  {
   "cell_type": "markdown",
   "metadata": {},
   "source": [
    "### Export des Datenmodells"
   ]
  },
  {
   "cell_type": "code",
   "execution_count": 29,
   "metadata": {},
   "outputs": [],
   "source": [
    "file_path = \"./schemes/\"\n",
    "\n",
    "bj_json_schema = BJ.schema()\n",
    "with open(f\"{file_path}/bj_schema.json\", \"w\") as f:\n",
    "    json.dump(bj_json_schema, f, indent=4)\n",
    "\n",
    "bt_json_schema = BT.schema()\n",
    "with open(f\"{file_path}/bt_schema.json\", \"w\") as f:\n",
    "    json.dump(bt_json_schema, f, indent=4)\n",
    "\n",
    "bp_json_schema = BP.schema()\n",
    "with open(f\"{file_path}/bp_schema.json\", \"w\") as f:\n",
    "    json.dump(bp_json_schema, f, indent=4)\n",
    "\n",
    "bf_json_schema = BF.schema()\n",
    "with open(f\"{file_path}/bf_schema.json\", \"w\") as f:\n",
    "    json.dump(bf_json_schema, f, indent=4)\n",
    "\n",
    "bs_json_schema = BS.schema()\n",
    "with open(f\"{file_path}/bs_schema.json\", \"w\") as f:\n",
    "    json.dump(bs_json_schema, f, indent=4)\n",
    "\n",
    "ihast_json_schema = iHAST.schema()\n",
    "with open(f\"{file_path}/ihast_schema.json\", \"w\") as f:\n",
    "    json.dump(ihast_json_schema, f, indent=4)\n",
    "\n",
    "iknoten_json_schema = iKNOTEN.schema()\n",
    "with open(f\"{file_path}/iknoten_schema.json\", \"w\") as f:\n",
    "    json.dump(iknoten_json_schema, f, indent=4)"
   ]
  },
  {
   "cell_type": "markdown",
   "metadata": {},
   "source": []
  }
 ],
 "metadata": {
  "kernelspec": {
   "display_name": "Python 3",
   "language": "python",
   "name": "python3"
  },
  "language_info": {
   "codemirror_mode": {
    "name": "ipython",
    "version": 3
   },
   "file_extension": ".py",
   "mimetype": "text/x-python",
   "name": "python",
   "nbconvert_exporter": "python",
   "pygments_lexer": "ipython3",
   "version": "3.11.4"
  }
 },
 "nbformat": 4,
 "nbformat_minor": 2
}
